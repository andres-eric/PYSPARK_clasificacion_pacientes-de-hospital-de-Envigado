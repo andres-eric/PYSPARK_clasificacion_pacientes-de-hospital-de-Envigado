{
  "cells": [
    {
      "cell_type": "markdown",
      "metadata": {
        "id": "view-in-github",
        "colab_type": "text"
      },
      "source": [
        "<a href=\"https://colab.research.google.com/github/andres-eric/PYSPARK_clasificacion_pacientes-de-hospital-de-Envigado/blob/main/PYSPARK_clasificacion_pacientes_de_hospital_de_Envigado.ipynb\" target=\"_parent\"><img src=\"https://colab.research.google.com/assets/colab-badge.svg\" alt=\"Open In Colab\"/></a>"
      ]
    },
    {
      "cell_type": "markdown",
      "metadata": {
        "id": "hzlYHg9_V9tm"
      },
      "source": [
        "### **LIBRERIAS Y INSTALACION DE PAQUERES**"
      ]
    },
    {
      "cell_type": "code",
      "execution_count": null,
      "metadata": {
        "id": "Z7rbDx_-JApm",
        "colab": {
          "base_uri": "https://localhost:8080/"
        },
        "outputId": "fa0611cd-2363-4887-dbb8-34d9122eb1c7"
      },
      "outputs": [
        {
          "output_type": "stream",
          "name": "stdout",
          "text": [
            "replicating local resources\n"
          ]
        }
      ],
      "source": [
        "!wget --no-cache -O init.py -q https://raw.githubusercontent.com/UDEA-Esp-Analitica-y-Ciencia-de-Datos/EACD-03-BIGDATA/master/init.py\n",
        "import init; init.init(force_download=False);\n",
        "from IPython.display import Image"
      ]
    },
    {
      "cell_type": "code",
      "execution_count": null,
      "metadata": {
        "id": "Tbph_8ZPWLBi"
      },
      "outputs": [],
      "source": [
        "#Instalación\n",
        "!apt-get install openjdk-11-jdk-headless -qq > /dev/null\n",
        "!wget -q http://archive.apache.org/dist/spark/spark-3.0.1/spark-3.0.1-bin-hadoop3.2.tgz\n",
        "!tar xf spark-3.0.1-bin-hadoop3.2.tgz\n",
        "!pip install -q findspark\n",
        "\n",
        "#Variables de Entorno\n",
        "import os\n",
        "os.environ[\"JAVA_HOME\"] = \"/usr/lib/jvm/java-11-openjdk-amd64\"\n",
        "os.environ[\"SPARK_HOME\"] = \"/content/spark-3.0.1-bin-hadoop3.2\"\n",
        "\n",
        "#SparkContext\n",
        "import findspark\n",
        "findspark.init()\n",
        "from pyspark.sql import SparkSession\n",
        "from pyspark import SparkContext\n",
        "spark = SparkSession.builder.master(\"local[*]\").getOrCreate()\n",
        "sc = SparkContext.getOrCreate()"
      ]
    },
    {
      "cell_type": "code",
      "execution_count": null,
      "metadata": {
        "id": "WZ2Qxu52ZnE8"
      },
      "outputs": [],
      "source": [
        "\n",
        "#SQL Context\n",
        "from pyspark.sql import SQLContext\n",
        "from pyspark.sql import functions\n",
        "from pyspark.sql.types import *\n",
        "sqlCtx = SQLContext(sc)\n",
        "\n",
        "from pyspark.sql import Row\n",
        "from pyspark.sql import SparkSession\n",
        "from pyspark.sql.types import * # Import all types\n",
        "\n",
        "from pyspark.sql.functions import udf\n",
        "from pyspark.sql.types import StringType\n",
        "\n",
        "from pyspark.sql.functions import udf, col # Ensure 'col' is imported correctly\n",
        "from pyspark.sql.types import StringType"
      ]
    },
    {
      "cell_type": "code",
      "execution_count": null,
      "metadata": {
        "id": "hXalyPgaaE-s"
      },
      "outputs": [],
      "source": [
        "spark = SparkSession.builder \\\n",
        "    .appName(\"PandasToPySpark\") \\\n",
        "    .getOrCreate()\n"
      ]
    },
    {
      "cell_type": "code",
      "execution_count": null,
      "metadata": {
        "id": "weB6c78AcHTI"
      },
      "outputs": [],
      "source": [
        "import requests # Import the requests library into your environment\n",
        "import tempfile # Import the tempfile module to create temporary files"
      ]
    },
    {
      "cell_type": "code",
      "execution_count": null,
      "metadata": {
        "colab": {
          "base_uri": "https://localhost:8080/"
        },
        "id": "hDzn_xcpJRWR",
        "outputId": "291d9cc9-5cb9-4b11-94fc-2f55ca287c59"
      },
      "outputs": [
        {
          "output_type": "execute_result",
          "data": {
            "image/png": "[encoded data removed]",
            "text/plain": [
              "<IPython.core.display.Image object>"
            ]
          },
          "metadata": {},
          "execution_count": 6
        }
      ],
      "source": [
        "Image(\"local/imgs/udea-datascience.png\")"
      ]
    },
    {
      "cell_type": "markdown",
      "metadata": {
        "id": "058NG6fhjybn"
      },
      "source": [
        "### **DESCARGA DEL DATA SET**"
      ]
    },
    {
      "cell_type": "code",
      "execution_count": null,
      "metadata": {
        "id": "UedWbO2dbppY"
      },
      "outputs": [],
      "source": [
        "url = \"https://www.datos.gov.co/api/views/4ike-xz34/rows.csv?accessType=DOWNLOAD\"\n",
        "\n",
        "response = requests.get(url)\n",
        "response.raise_for_status()\n",
        "\n",
        "\n",
        "with tempfile.NamedTemporaryFile(delete=False, suffix='.csv') as temp_file:\n",
        "      temp_file.write(response.content)\n",
        "      temp_path = temp_file.name\n",
        "\n",
        "df = spark.read.option(\"header\", \"true\") \\\n",
        "                   .option(\"inferSchema\", \"true\") \\\n",
        "                   .csv(temp_path)"
      ]
    },
    {
      "cell_type": "markdown",
      "metadata": {
        "id": "UlYY1g0lKhz_"
      },
      "source": [
        "### **Análisis de pacientes de hospital de Envigado**\n",
        "\n",
        "El archivo poblacion_atendida.csv contiene información sobre los pacientes atendidos en un Hospital en Envigado. Para cada paciente se tiene la siguiente información:\n",
        "\n",
        "* SEXO\n",
        "* ESTADO_CIVIL\n",
        "* ZONA_RES\n",
        "* MUN_RES\n",
        "* PAIS_NCTO\n",
        "* EDAD\n",
        "* ESCOLARIDAD_PACIENTE\n",
        "\n",
        "Fuente de los datos: https://www.datos.gov.co/Salud-y-Protecci-n-Social/Poblaci-n-Atendida-a-o-2020/4ike-xz34\n",
        "\n",
        "\n",
        "Se solicita de su ayuda para realizar las siguientes actividades:"
      ]
    },
    {
      "cell_type": "markdown",
      "metadata": {
        "id": "GAyH6mgGK3VA"
      },
      "source": [
        "##**A) Preparación de datos**\n",
        "\n",
        "Se revisa cada una de las variables disponibles y se realiza la respectiva prepración de datos antes de proceder a crear los modelos de Machine Learning\n"
      ]
    },
    {
      "cell_type": "markdown",
      "metadata": {
        "id": "k2c0vta3dnmg"
      },
      "source": [
        "### **IDENTIFICAR VARIABLES**"
      ]
    },
    {
      "cell_type": "code",
      "execution_count": null,
      "metadata": {
        "colab": {
          "base_uri": "https://localhost:8080/"
        },
        "id": "AY6fgKHJdkXZ",
        "outputId": "c53846b1-bb1d-488f-bcee-b4a3e9fb812a"
      },
      "outputs": [
        {
          "output_type": "stream",
          "name": "stdout",
          "text": [
            "root\n",
            " |-- SEXO: string (nullable = true)\n",
            " |-- ESTADO_CIVIL: string (nullable = true)\n",
            " |-- ZONA_RES: string (nullable = true)\n",
            " |-- MUN_RES: string (nullable = true)\n",
            " |-- EDAD: integer (nullable = true)\n",
            " |-- ESCOLARIDAD_PACIENTE: string (nullable = true)\n",
            " |-- GRUPO_EDAD: string (nullable = true)\n",
            " |-- TIPO_PACNAL: string (nullable = true)\n",
            " |-- DISCAPACIDAD: string (nullable = true)\n",
            " |-- VICTIMA_CA: string (nullable = true)\n",
            " |-- FECHA DE LA CARACTERIZACIÓN: string (nullable = true)\n",
            " |-- GRUPO POBLACIONAL: string (nullable = true)\n",
            " |-- DATOS DE LA ASEGURADORA (EAPB): string (nullable = true)\n",
            "\n",
            "+---------+--------------------+--------+--------+----+--------------------+----------------+-----------+---------------+---------------+---------------------------+-----------------+------------------------------+\n",
            "|     SEXO|        ESTADO_CIVIL|ZONA_RES| MUN_RES|EDAD|ESCOLARIDAD_PACIENTE|      GRUPO_EDAD|TIPO_PACNAL|   DISCAPACIDAD|     VICTIMA_CA|FECHA DE LA CARACTERIZACIÓN|GRUPO POBLACIONAL|DATOS DE LA ASEGURADORA (EAPB)|\n",
            "+---------+--------------------+--------+--------+----+--------------------+----------------+-----------+---------------+---------------+---------------------------+-----------------+------------------------------+\n",
            "|MASCULINO|SIN INFORMACION O...|  URBANA|ENVIGADO|   0|             Ninguno|Menores de 1 año| NACIONALES|SIN INFORMACIÓN|SIN INFORMACIÓN|       01/01/2023 12:00:...|  Sin Información|          Eps Y Medicina Pr...|\n",
            "| FEMENINO|             SOLTERO|  URBANA|ENVIGADO|  24|   Basica Secundaria| De 20 a 24 años| NACIONALES|SIN INFORMACIÓN|SIN INFORMACIÓN|       01/01/2023 12:00:...|  Sin Información|          Eps Y Medicina Pr...|\n",
            "| FEMENINO|             SOLTERO|  URBANA|ENVIGADO|  26|         Tecnologica| De 25 a 29 años| NACIONALES|SIN INFORMACIÓN|SIN INFORMACIÓN|       01/01/2023 12:00:...|  Sin Información|          Eps Y Medicina Pr...|\n",
            "| FEMENINO|         UNION LIBRE|  URBANA|  ITAGUI|  36| Tecnica Profesional| De 35 a 39 años| NACIONALES|SIN INFORMACIÓN|SIN INFORMACIÓN|       01/01/2023 12:00:...|  Sin Información|          Eps Y Medicina Pr...|\n",
            "| FEMENINO|SIN INFORMACION O...|  URBANA|  ITAGUI|   0|             Ninguno|Menores de 1 año| NACIONALES|SIN INFORMACIÓN|SIN INFORMACIÓN|       01/01/2023 12:00:...|  Sin Información|          Eps Y Medicina Pr...|\n",
            "+---------+--------------------+--------+--------+----+--------------------+----------------+-----------+---------------+---------------+---------------------------+-----------------+------------------------------+\n",
            "only showing top 5 rows\n",
            "\n"
          ]
        }
      ],
      "source": [
        "df.printSchema()\n",
        "df.show(5)"
      ]
    },
    {
      "cell_type": "markdown",
      "metadata": {
        "id": "De0OvwnHfuz4"
      },
      "source": [
        "### **TRTAMIENTO DE DUPLICADOS**"
      ]
    },
    {
      "cell_type": "markdown",
      "metadata": {
        "id": "PErCp676jKVu"
      },
      "source": [
        "**borrar duplicados**"
      ]
    },
    {
      "cell_type": "code",
      "execution_count": null,
      "metadata": {
        "colab": {
          "base_uri": "https://localhost:8080/"
        },
        "id": "AjQ6P4w6i1GV",
        "outputId": "1c789ad0-3b94-445c-d9a9-f64acee2852d"
      },
      "outputs": [
        {
          "output_type": "stream",
          "name": "stdout",
          "text": [
            "Total de registros del data set:  93356\n"
          ]
        }
      ],
      "source": [
        "total_registros = df.count()\n",
        "print('Total de registros del data set: ', total_registros)"
      ]
    },
    {
      "cell_type": "code",
      "execution_count": null,
      "metadata": {
        "colab": {
          "base_uri": "https://localhost:8080/"
        },
        "id": "LZAE07Qoi-Me",
        "outputId": "41e472a3-b710-449a-fe1d-361d24229e9a"
      },
      "outputs": [
        {
          "output_type": "stream",
          "name": "stdout",
          "text": [
            "Total de registros sin duplicados del data set:  91967\n"
          ]
        }
      ],
      "source": [
        "df_ = df.dropDuplicates()\n",
        "print('Total de registros sin duplicados del data set: ', df_.count())"
      ]
    },
    {
      "cell_type": "markdown",
      "metadata": {
        "id": "_8s2UaTSncPi"
      },
      "source": [
        "**variables irrelevantes**\n"
      ]
    },
    {
      "cell_type": "markdown",
      "metadata": {
        "id": "FQ0okg7knf4x"
      },
      "source": [
        "\n",
        "Para lograr el objetivo segmentación de pacientes mediante KMeans es importante identificar las variables relevantes y excluir las variables que posiblemente no impacten el modelo ya que no aporta información directa sobre el paciente para la segmentación\n",
        "\n",
        "- FECHA DE LA CARACTERIZACIÓN\n",
        "- DATOS DE LA ASEGURADORA: Contiene información administrativa que probablemente no sea útil para la segmentación\n",
        "- VARIABLE REDUNDANTE: GRUPO_EDAD, no es necesario incluir EDAD directamente, ya que GRUPO_EDAD agrupa las edad de forma categórica con un rango de 4 años por rango por lo que tendria al menos 20 caterias de edad"
      ]
    },
    {
      "cell_type": "code",
      "execution_count": null,
      "metadata": {
        "id": "dy9hsDVNoWmc"
      },
      "outputs": [],
      "source": [
        "df_=df_.drop('GRUPO_EDAD','FECHA DE LA CARACTERIZACIÓN')"
      ]
    },
    {
      "cell_type": "markdown",
      "metadata": {
        "id": "tZ6I-6oxK_-r"
      },
      "source": [
        "### **VALORES NULLOS**\n",
        "\n"
      ]
    },
    {
      "cell_type": "code",
      "execution_count": null,
      "metadata": {
        "colab": {
          "base_uri": "https://localhost:8080/"
        },
        "id": "QDZpumfJhzqI",
        "outputId": "184670e8-6d02-4075-98d1-10ced856133a"
      },
      "outputs": [
        {
          "output_type": "stream",
          "name": "stdout",
          "text": [
            "SEXO 0\n",
            "ESTADO_CIVIL 0\n",
            "ZONA_RES 0\n",
            "MUN_RES 0\n",
            "EDAD 0\n",
            "ESCOLARIDAD_PACIENTE 0\n",
            "TIPO_PACNAL 0\n",
            "DISCAPACIDAD 0\n",
            "VICTIMA_CA 0\n",
            "GRUPO POBLACIONAL 0\n",
            "DATOS DE LA ASEGURADORA (EAPB) 0\n"
          ]
        }
      ],
      "source": [
        "for col in  df_.columns:\n",
        "  print(col,df.filter(df[col].isNull()).count())"
      ]
    },
    {
      "cell_type": "markdown",
      "metadata": {
        "id": "F-njqbnTM2To"
      },
      "source": [
        "Presente aquí el código desarrollado y el resultado obtenido"
      ]
    },
    {
      "cell_type": "markdown",
      "metadata": {
        "id": "aicHrQDWt94h"
      },
      "source": [
        "### **ANALISIS UNIVARIADO**"
      ]
    },
    {
      "cell_type": "markdown",
      "metadata": {
        "id": "q_NIYin_uIho"
      },
      "source": [
        "**analisis de categoria por variable**"
      ]
    },
    {
      "cell_type": "code",
      "execution_count": null,
      "metadata": {
        "colab": {
          "base_uri": "https://localhost:8080/"
        },
        "id": "GgcJF6OShGJp",
        "outputId": "82279d39-8f0f-4e5e-85c3-6afdd8d9fb97"
      },
      "outputs": [
        {
          "output_type": "stream",
          "name": "stdout",
          "text": [
            "SEXO 2\n",
            "ESTADO_CIVIL 6\n",
            "ZONA_RES 3\n",
            "MUN_RES 352\n",
            "EDAD 106\n",
            "ESCOLARIDAD_PACIENTE 14\n",
            "TIPO_PACNAL 3\n",
            "DISCAPACIDAD 2\n",
            "VICTIMA_CA 2\n",
            "GRUPO POBLACIONAL 7\n",
            "DATOS DE LA ASEGURADORA (EAPB) 81\n"
          ]
        }
      ],
      "source": [
        "for col in  df_.columns:\n",
        "  print(col,df_.select(col).distinct().count())"
      ]
    },
    {
      "cell_type": "markdown",
      "metadata": {
        "id": "2SFN0Nnjvqzx"
      },
      "source": [
        "Las variables como SEXO, ZONA_RES, TIPO_PACNAL, DISCAPACIDAD, y VICTIMA_CA, tienen categorías limitadas. por otro lado variables como EDAD, MUN_RES , DATOS DE LA ASEGURADORA  requiere ser agrupada en rangos o categorias con el fin de hebitar el detalle inecesario  o verificar la importancia de variables como MUN_RES y DE LA ASEGURADORA ya que contiene alta dimensionalidad."
      ]
    },
    {
      "cell_type": "markdown",
      "metadata": {
        "id": "Kyv6H5JDx5is"
      },
      "source": [
        "**Variables numéricas**"
      ]
    },
    {
      "cell_type": "code",
      "execution_count": null,
      "metadata": {
        "colab": {
          "base_uri": "https://localhost:8080/"
        },
        "id": "KJL97FDEx_x7",
        "outputId": "0b01858e-d320-4225-89b7-67f48320b546"
      },
      "outputs": [
        {
          "output_type": "stream",
          "name": "stdout",
          "text": [
            "+-------+------------------+\n",
            "|summary|              EDAD|\n",
            "+-------+------------------+\n",
            "|  count|             91967|\n",
            "|   mean|42.204660367305664|\n",
            "| stddev|23.760919148074922|\n",
            "|    min|                 0|\n",
            "|    max|               111|\n",
            "+-------+------------------+\n",
            "\n"
          ]
        }
      ],
      "source": [
        "df_.select('EDAD').describe().show()"
      ]
    },
    {
      "cell_type": "markdown",
      "metadata": {
        "id": "O-XbeIa90yw5"
      },
      "source": [
        "**Variables categóricas**"
      ]
    },
    {
      "cell_type": "code",
      "execution_count": null,
      "metadata": {
        "colab": {
          "base_uri": "https://localhost:8080/"
        },
        "id": "vE41S2sv1S35",
        "outputId": "8339d9ad-b646-474c-cef0-b2d466561eba"
      },
      "outputs": [
        {
          "output_type": "stream",
          "name": "stdout",
          "text": [
            "+---------+-----+\n",
            "|     SEXO|count|\n",
            "+---------+-----+\n",
            "| FEMENINO|54295|\n",
            "|MASCULINO|37672|\n",
            "+---------+-----+\n",
            "\n"
          ]
        }
      ],
      "source": [
        "df_.groupBy('SEXO').count().show()"
      ]
    },
    {
      "cell_type": "markdown",
      "metadata": {
        "id": "bYC5LJFe4gDI"
      },
      "source": [
        "El conteo muestra que hay más registros femeninos 54,295 que masculinos 37,672.\n",
        "\n",
        "1.   Elemento de lista\n",
        "2.   Elemento de lista\n",
        "\n",
        "Esto muestra un desbalance entre las categorías. tambien es importante cuestionar si esta variable aporta valor al clostering"
      ]
    },
    {
      "cell_type": "code",
      "execution_count": null,
      "metadata": {
        "colab": {
          "base_uri": "https://localhost:8080/"
        },
        "id": "VWrorO__wcqV",
        "outputId": "076ca7f2-023b-4e3b-dc7b-46dc0e310f1f"
      },
      "outputs": [
        {
          "output_type": "stream",
          "name": "stdout",
          "text": [
            "+---------------------------+-----+\n",
            "|ESTADO_CIVIL               |count|\n",
            "+---------------------------+-----+\n",
            "|VIUDO                      |4701 |\n",
            "|SOLTERO                    |34168|\n",
            "|DIVORCIADO O SEPARADO      |2881 |\n",
            "|SIN INFORMACION O NO APLICA|18591|\n",
            "|CASADO                     |19979|\n",
            "|UNION LIBRE                |11647|\n",
            "+---------------------------+-----+\n",
            "\n"
          ]
        }
      ],
      "source": [
        "df_.groupBy('ESTADO_CIVIL').count().show(truncate=False)"
      ]
    },
    {
      "cell_type": "markdown",
      "metadata": {
        "id": "1ElMuG4k7jfR"
      },
      "source": [
        "Algunas categorías, como \"Viudo\" y \"Divorciado o Separado\", tienen pocas observaciones, lo que puede hacerlas menos útiles para el modelo y aumentar el ruido.\n",
        "\n",
        "se puede pensar en agrupar categorías con pocos casos en una genérica, como \"Otros\"\n",
        "\n",
        "La categoría \"Sin información o no aplica\" representa una proporción considerable y necesita un manejo especial, ya que podría ser información faltante o irrelevante."
      ]
    },
    {
      "cell_type": "code",
      "execution_count": null,
      "metadata": {
        "colab": {
          "base_uri": "https://localhost:8080/"
        },
        "id": "QhuoI3lS2LCK",
        "outputId": "b73ce567-71d4-43c8-e777-8570ef927dce"
      },
      "outputs": [
        {
          "output_type": "stream",
          "name": "stdout",
          "text": [
            "+---------------+-----+\n",
            "|    TIPO_PACNAL|count|\n",
            "+---------------+-----+\n",
            "|SIN INFORMACIÓN|  235|\n",
            "|    EXTRANJEROS| 3643|\n",
            "|     NACIONALES|88089|\n",
            "+---------------+-----+\n",
            "\n"
          ]
        }
      ],
      "source": [
        "df_.groupBy('TIPO_PACNAL').count().show()\n"
      ]
    },
    {
      "cell_type": "markdown",
      "metadata": {
        "id": "TGZGmm9U-DFd"
      },
      "source": [
        "Los datos muestran una fuerte mayoria en pacientes nacionales en comparación con extranjeros\n",
        "\n",
        "la mayor representatividad se encuentra en los nacionales  más del 95% del total por lo que es una opcion enfocarse en el grupo de nacionales"
      ]
    },
    {
      "cell_type": "code",
      "execution_count": null,
      "metadata": {
        "colab": {
          "base_uri": "https://localhost:8080/"
        },
        "id": "BCZvfCsV2lHi",
        "outputId": "c389af11-0e3a-48f4-813b-6070aca2c16e"
      },
      "outputs": [
        {
          "output_type": "stream",
          "name": "stdout",
          "text": [
            "+---------------+-----+\n",
            "|   DISCAPACIDAD|count|\n",
            "+---------------+-----+\n",
            "|SIN INFORMACIÓN|91760|\n",
            "|             SI|  207|\n",
            "+---------------+-----+\n",
            "\n"
          ]
        }
      ],
      "source": [
        "df_.groupBy('DISCAPACIDAD').count().show()\n"
      ]
    },
    {
      "cell_type": "markdown",
      "metadata": {
        "id": "gIwu4D6rBC-9"
      },
      "source": [
        "Los datos presentan una clara mayoría de registros clasificados como \"SIN INFORMACIÓN\", La cantidad de casos con si es muy baja lo que no proporciona suficiente representatividad para que el modelo aprenda patrones relacionados con esta categoría. excluir esta variable sería una opcion válida"
      ]
    },
    {
      "cell_type": "code",
      "execution_count": null,
      "metadata": {
        "colab": {
          "base_uri": "https://localhost:8080/"
        },
        "id": "oPZ24O6A23GM",
        "outputId": "b092da88-23b4-407d-ae8f-3cd29351a03b"
      },
      "outputs": [
        {
          "output_type": "stream",
          "name": "stdout",
          "text": [
            "+---------------+-----+\n",
            "|     VICTIMA_CA|count|\n",
            "+---------------+-----+\n",
            "|SIN INFORMACIÓN|91903|\n",
            "|             SI|   64|\n",
            "+---------------+-----+\n",
            "\n"
          ]
        }
      ],
      "source": [
        "\n",
        "df_.groupBy('VICTIMA_CA').count().show()\n"
      ]
    },
    {
      "cell_type": "markdown",
      "metadata": {
        "id": "X5NkLCpNIiOD"
      },
      "source": [
        "asi mismo la variable VICTIMA_CA puede ser excluida sin afectar significativamente el desempeño del modelo, ya que su baja variabilidad y representatividad limitan su utilidad para el análisis"
      ]
    },
    {
      "cell_type": "code",
      "execution_count": null,
      "metadata": {
        "colab": {
          "base_uri": "https://localhost:8080/"
        },
        "id": "FpHjq7vi29wb",
        "outputId": "7a3dfa7a-a2a6-4328-b5b6-e98ad327c5c7"
      },
      "outputs": [
        {
          "output_type": "stream",
          "name": "stdout",
          "text": [
            "+----------------------------------------------------+-----+\n",
            "|GRUPO POBLACIONAL                                   |count|\n",
            "+----------------------------------------------------+-----+\n",
            "|Población indígena                                  |65   |\n",
            "|Población víctima del conflicto armado              |63   |\n",
            "|Sin Información                                     |91214|\n",
            "|Población afrocolombiana, negra, palenquera y raizal|392  |\n",
            "|Población ROM o gitana                              |9    |\n",
            "|Población en situación de discapacidad              |207  |\n",
            "|Población LGBTIQ+                                   |17   |\n",
            "+----------------------------------------------------+-----+\n",
            "\n"
          ]
        }
      ],
      "source": [
        "df_.groupBy('GRUPO POBLACIONAL').count().show(truncate=False)"
      ]
    },
    {
      "cell_type": "markdown",
      "metadata": {
        "id": "UFNPHtKSIu-M"
      },
      "source": [
        "\n",
        "La mayoría de los registros 99% están etiquetados como \"Sin Información\", lo que dificulta extraer valor informativo de esta variable.\n",
        "\n",
        "Dado el predominio absoluto de la categoría \"Sin Información\", y la baja representatividad de las demás categorías, podría considerarce excluir esta variable"
      ]
    },
    {
      "cell_type": "code",
      "execution_count": null,
      "metadata": {
        "colab": {
          "base_uri": "https://localhost:8080/"
        },
        "id": "Z3CRDUn5_MTV",
        "outputId": "c7aa6fcc-d90a-4a74-ad8e-19f21dca6369"
      },
      "outputs": [
        {
          "output_type": "stream",
          "name": "stdout",
          "text": [
            "+---------------+-----+\n",
            "|       ZONA_RES|count|\n",
            "+---------------+-----+\n",
            "|SIN INFORMACIÓN|   25|\n",
            "|          RURAL|  464|\n",
            "|         URBANA|91478|\n",
            "+---------------+-----+\n",
            "\n"
          ]
        }
      ],
      "source": [
        "df_.groupBy('ZONA_RES').count().show()"
      ]
    },
    {
      "cell_type": "markdown",
      "metadata": {
        "id": "k5Jc5p2Q_wqJ"
      },
      "source": [
        "La categoría \"URBANA\" domina  los datos, con 91,478 registros, lo que La variable tiene un desbalance importante entre las categorías \"URBANA\" y \"RURAL\". Aunque esto puede reflejar la realidad de la población estudiada, es importante analizar si la baja representación de \"RURAL\"representa.  \n",
        "\n",
        "Mantener la variable ZONA_RES: Puede ser útil para identificar patrones en la segmentación, ya que refleja un aspecto demográfico relevante, tambien seria relevante filtrar el data set por la caracteristica URBANA"
      ]
    },
    {
      "cell_type": "code",
      "execution_count": null,
      "metadata": {
        "colab": {
          "base_uri": "https://localhost:8080/"
        },
        "id": "bwZGdCpREP1F",
        "outputId": "c2dee572-6994-4d06-c5d7-023c344dad9c"
      },
      "outputs": [
        {
          "output_type": "stream",
          "name": "stdout",
          "text": [
            "+--------------------+-----+\n",
            "|ESCOLARIDAD_PACIENTE|count|\n",
            "+--------------------+-----+\n",
            "|          Preescolar| 2304|\n",
            "|   Basica Secundaria|25718|\n",
            "|             Ninguno|22611|\n",
            "|            Primaria|    5|\n",
            "|     Basica Primaria|20618|\n",
            "|Media Tecnica (Ba...|  410|\n",
            "|         Tecnologica| 2735|\n",
            "|           Doctorado|   85|\n",
            "|          Normalista|  215|\n",
            "|Media Academica o...| 4434|\n",
            "|     Especializacion| 1240|\n",
            "| Tecnica Profesional| 4103|\n",
            "|            Maestria|  159|\n",
            "|         Profesional| 7330|\n",
            "+--------------------+-----+\n",
            "\n"
          ]
        }
      ],
      "source": [
        "df_.groupBy('ESCOLARIDAD_PACIENTE').count().show()"
      ]
    },
    {
      "cell_type": "markdown",
      "metadata": {
        "id": "K3AU3hB6Fift"
      },
      "source": [
        "\n",
        "Esta variable puede ser relevante para la segmentación, ya que el nivel educativo podría estar relacionado con patrones de atención o necesidades específicas de los pacientes.\n",
        "\n",
        "Agrupar de categorías Reducir el número de categorías al agruparlas en niveles educativos más amplios."
      ]
    },
    {
      "cell_type": "markdown",
      "metadata": {
        "id": "l62y8Rt53i4N"
      },
      "source": [
        "conclucion"
      ]
    },
    {
      "cell_type": "markdown",
      "metadata": {
        "id": "6pfN3ujXfa6N"
      },
      "source": [
        "**filtrar data set**"
      ]
    },
    {
      "cell_type": "code",
      "execution_count": null,
      "metadata": {
        "id": "w1iGtfPugBlE"
      },
      "outputs": [],
      "source": [
        "df_ml=df_.select('SEXO','ESTADO_CIVIL','ZONA_RES','EDAD','ESCOLARIDAD_PACIENTE','TIPO_PACNAL')"
      ]
    },
    {
      "cell_type": "markdown",
      "metadata": {
        "id": "ZKnuBvNek-9A"
      },
      "source": [
        "### **TRATAMIENTO  CATEGORIAS DATAFRAME**"
      ]
    },
    {
      "cell_type": "markdown",
      "metadata": {
        "id": "3CLalsUp0LYS"
      },
      "source": [
        "**funcion agrupar estado civil**"
      ]
    },
    {
      "cell_type": "code",
      "execution_count": null,
      "metadata": {
        "id": "LYZjiv-1wXy5"
      },
      "outputs": [],
      "source": [
        "def estado(x):\n",
        "  if x in ['CASADO','UNION LIBRE']:\n",
        "    return 'Con pareja'\n",
        "  elif x in ['SOLTERO','DIVORCIADO','VIUDO','SEPARADO']:\n",
        "    return 'Sin pareja'\n",
        "  else:\n",
        "    return 'Sin información'"
      ]
    },
    {
      "cell_type": "code",
      "execution_count": null,
      "metadata": {
        "id": "yvVsbatyyAIK"
      },
      "outputs": [],
      "source": [
        "estado_udf = udf(estado, StringType())"
      ]
    },
    {
      "cell_type": "code",
      "execution_count": null,
      "metadata": {
        "id": "kiypvVB94w4k"
      },
      "outputs": [],
      "source": [
        "from pyspark.sql.functions import udf, col\n",
        "from pyspark.sql.types import StringType"
      ]
    },
    {
      "cell_type": "code",
      "execution_count": null,
      "metadata": {
        "id": "e_Nn-UqcyCCT"
      },
      "outputs": [],
      "source": [
        "df_ml_ = df_ml.withColumn(\"ESTADO_CIVIL_\", estado_udf(col(\"ESTADO_CIVIL\")))"
      ]
    },
    {
      "cell_type": "code",
      "execution_count": null,
      "metadata": {
        "id": "9WbEVU_DzxlV"
      },
      "outputs": [],
      "source": [
        "df_ml_ = df_ml_.drop('ESTADO_CIVIL')"
      ]
    },
    {
      "cell_type": "markdown",
      "metadata": {
        "id": "SMTuQhvP1KZA"
      },
      "source": [
        "**funcion agrupar ESCOLARIDAD_PACIENTE**"
      ]
    },
    {
      "cell_type": "code",
      "execution_count": null,
      "metadata": {
        "id": "DrH3L42o2DPr"
      },
      "outputs": [],
      "source": [
        "def educacion(x):\n",
        "    if x in ['Ninguno', 'Preescolar']:\n",
        "        return 'Sin escolaridad'\n",
        "    elif x in ['Basica Primaria', 'Primaria', 'Basica Secundaria']:\n",
        "        return 'Educacion Basica'\n",
        "    elif x in ['Media Academica o Clasica', 'Media Tecnica (Bachillerato T)', 'Normalista','Tecnica Profesional', 'Tecnologica']:\n",
        "        return 'Educacion Media'\n",
        "    elif x in ['Profesional']:\n",
        "        return 'Educacion Superior'\n",
        "    elif x in ['Especializacion', 'Maestria', 'Doctorado']:\n",
        "        return 'Posgrado'\n",
        "    else:\n",
        "        return 'Otra'\n",
        "\n",
        "\n"
      ]
    },
    {
      "cell_type": "code",
      "execution_count": null,
      "metadata": {
        "id": "BuIKZUNq3r6y"
      },
      "outputs": [],
      "source": [
        "educacion_udf = udf(educacion, StringType())"
      ]
    },
    {
      "cell_type": "code",
      "execution_count": null,
      "metadata": {
        "id": "TKgoXnAr5O89"
      },
      "outputs": [],
      "source": [
        "df_ml_ = df_ml_.withColumn(\"educacion\", educacion_udf(col(\"ESCOLARIDAD_PACIENTE\")))"
      ]
    },
    {
      "cell_type": "code",
      "execution_count": null,
      "metadata": {
        "id": "2B6oUaEH5lu-"
      },
      "outputs": [],
      "source": [
        "df_ml_ = df_ml_.drop('ESCOLARIDAD_PACIENTE')"
      ]
    },
    {
      "cell_type": "markdown",
      "metadata": {
        "id": "MaeekBud9cfM"
      },
      "source": [
        "**funcion agrupar EDAD**"
      ]
    },
    {
      "cell_type": "code",
      "execution_count": null,
      "metadata": {
        "id": "9Ae2AvputVl7"
      },
      "outputs": [],
      "source": [
        "from pyspark.sql.functions import col, max\n",
        "max_edad = df_ml_.select(max(col(\"EDAD\")).alias(\"max_EDAD\")).collect()[0][\"max_EDAD\"]"
      ]
    },
    {
      "cell_type": "code",
      "execution_count": null,
      "metadata": {
        "id": "fs3Yi_jn_Nue"
      },
      "outputs": [],
      "source": [
        "def edad(x):\n",
        "    if x < 18:\n",
        "        return 'Jovenes'\n",
        "    elif 18 <= x <= 60:\n",
        "        return 'Adultos'\n",
        "    elif x > 60:\n",
        "        return 'Mayores'\n",
        "    else:\n",
        "        return 'Otra'\n",
        "\n"
      ]
    },
    {
      "cell_type": "code",
      "execution_count": null,
      "metadata": {
        "id": "k5I4dfLOAhSb"
      },
      "outputs": [],
      "source": [
        "edad_udf = udf(edad, StringType())"
      ]
    },
    {
      "cell_type": "code",
      "execution_count": null,
      "metadata": {
        "id": "86dtmyuhAZKp"
      },
      "outputs": [],
      "source": [
        "df_ml_ = df_ml_.withColumn(\"edad\", edad_udf(col(\"EDAD\")))"
      ]
    },
    {
      "cell_type": "code",
      "execution_count": null,
      "metadata": {
        "id": "UWIiixbMABtf"
      },
      "outputs": [],
      "source": [
        "edad_udf = udf(edad, StringType())"
      ]
    },
    {
      "cell_type": "markdown",
      "metadata": {
        "id": "m92YjKirqU0I"
      },
      "source": [
        "### **REGISTRAR DATA SET COMO CONSULTA SQL**"
      ]
    },
    {
      "cell_type": "code",
      "execution_count": null,
      "metadata": {
        "id": "h-rHLFfjqtQW"
      },
      "outputs": [],
      "source": [
        "df_ml_.createOrReplaceTempView(\"mi_tabla_sql\")"
      ]
    },
    {
      "cell_type": "code",
      "execution_count": null,
      "metadata": {
        "id": "YK84WrwaApzT"
      },
      "outputs": [],
      "source": [
        "result = spark.sql(\"SELECT * FROM mi_tabla_sql\")"
      ]
    },
    {
      "cell_type": "code",
      "execution_count": null,
      "metadata": {
        "colab": {
          "base_uri": "https://localhost:8080/"
        },
        "id": "EwqXiYPWgGcU",
        "outputId": "88d10957-f239-4859-aee7-52342efb82da"
      },
      "outputs": [
        {
          "output_type": "stream",
          "name": "stdout",
          "text": [
            "+---------+--------+-------+-----------+---------------+----------------+\n",
            "|     SEXO|ZONA_RES|   edad|TIPO_PACNAL|  ESTADO_CIVIL_|       educacion|\n",
            "+---------+--------+-------+-----------+---------------+----------------+\n",
            "|MASCULINO|  URBANA|Adultos| NACIONALES|     Con pareja|Educacion Basica|\n",
            "|MASCULINO|  URBANA|Mayores| NACIONALES|     Con pareja|Educacion Basica|\n",
            "| FEMENINO|  URBANA|Jovenes| NACIONALES|Sin información| Sin escolaridad|\n",
            "|MASCULINO|  URBANA|Adultos| NACIONALES|     Con pareja|Educacion Basica|\n",
            "|MASCULINO|  URBANA|Mayores| NACIONALES|     Con pareja|Educacion Basica|\n",
            "| FEMENINO|  URBANA|Mayores| NACIONALES|     Sin pareja|Educacion Basica|\n",
            "| FEMENINO|  URBANA|Adultos| NACIONALES|     Con pareja| Educacion Media|\n",
            "| FEMENINO|  URBANA|Adultos| NACIONALES|     Con pareja|Educacion Basica|\n",
            "| FEMENINO|  URBANA|Adultos| NACIONALES|     Con pareja|Educacion Basica|\n",
            "|MASCULINO|  URBANA|Adultos| NACIONALES|     Con pareja|Educacion Basica|\n",
            "|MASCULINO|  URBANA|Adultos| NACIONALES|     Con pareja|Educacion Basica|\n",
            "|MASCULINO|  URBANA|Adultos| NACIONALES|     Sin pareja|Educacion Basica|\n",
            "|MASCULINO|  URBANA|Jovenes| NACIONALES|Sin información| Sin escolaridad|\n",
            "| FEMENINO|  URBANA|Jovenes| NACIONALES|Sin información| Sin escolaridad|\n",
            "| FEMENINO|  URBANA|Jovenes| NACIONALES|     Con pareja|Educacion Basica|\n",
            "|MASCULINO|  URBANA|Adultos| NACIONALES|     Sin pareja| Educacion Media|\n",
            "| FEMENINO|  URBANA|Adultos| NACIONALES|     Con pareja| Educacion Media|\n",
            "|MASCULINO|  URBANA|Jovenes| NACIONALES|Sin información| Sin escolaridad|\n",
            "| FEMENINO|  URBANA|Adultos| NACIONALES|     Con pareja|Educacion Basica|\n",
            "| FEMENINO|  URBANA|Adultos| NACIONALES|     Con pareja|Educacion Basica|\n",
            "+---------+--------+-------+-----------+---------------+----------------+\n",
            "only showing top 20 rows\n",
            "\n"
          ]
        }
      ],
      "source": [
        "result.show()"
      ]
    },
    {
      "cell_type": "code",
      "execution_count": null,
      "metadata": {
        "id": "d9aMrqMslPxt",
        "colab": {
          "base_uri": "https://localhost:8080/"
        },
        "outputId": "e2b3aad5-9b62-448b-c7c5-35c66d52aa4a"
      },
      "outputs": [
        {
          "output_type": "stream",
          "name": "stdout",
          "text": [
            "SEXO 2\n",
            "ZONA_RES 3\n",
            "edad 3\n",
            "TIPO_PACNAL 3\n",
            "ESTADO_CIVIL_ 3\n",
            "educacion 5\n"
          ]
        }
      ],
      "source": [
        "for col in  df_ml_.columns:\n",
        "  print(col,df_ml_.select(col).distinct().count())"
      ]
    },
    {
      "cell_type": "code",
      "execution_count": null,
      "metadata": {
        "id": "YmKRwRYUMVnw"
      },
      "outputs": [],
      "source": [
        "result.registerTempTable(\"df_result\") #This line is changed to use the 'result' DataFrame instead of 'result_', which is not defined in the original code.\n",
        "df_result=spark.sql(\"\"\"SELECT\n",
        "\n",
        "--SEXO\n",
        "edad\n",
        ",ESTADO_CIVIL_\n",
        ",educacion\n",
        "\n",
        "FROM mi_tabla_sql  WHERE TIPO_PACNAL='NACIONALES' AND ZONA_RES='URBANA' AND ESTADO_CIVIL_!='Sin información' \"\"\")"
      ]
    },
    {
      "cell_type": "markdown",
      "metadata": {
        "id": "E58YsG66OSgi"
      },
      "source": [
        "**funciones categoricas a numericas**"
      ]
    },
    {
      "cell_type": "code",
      "execution_count": null,
      "metadata": {
        "id": "KZnJqh2lOLSW"
      },
      "outputs": [],
      "source": [
        "def sexo_numm(x):\n",
        "  if x=='MASCULINO':\n",
        "    return 1\n",
        "  else:\n",
        "    return 0\n",
        "\n",
        "def edad(x):\n",
        "  if x=='Jovenes':\n",
        "    return 1\n",
        "  elif x=='Adultos':\n",
        "    return 2\n",
        "  elif x=='Mayores':\n",
        "    return 3\n",
        "  elif x=='Otra':\n",
        "    return 4\n",
        "\n",
        "def estado_civil(x):\n",
        "  if x=='Con pareja':\n",
        "    return 1\n",
        "  if x=='Sin pareja':\n",
        "    return 2\n",
        "  else:\n",
        "    return 0\n",
        "\n",
        "def educacion(x):\n",
        "  if x=='Sin escolaridad':\n",
        "    return 1\n",
        "  elif x=='Educacion Basica':\n",
        "    return 2\n",
        "  elif x=='Educacion Media':\n",
        "    return 3\n",
        "  elif x=='Educacion Superior':\n",
        "    return 4\n",
        "  elif x=='Posgrado':\n",
        "    return 5\n",
        "  else:\n",
        "    return 0\n"
      ]
    },
    {
      "cell_type": "code",
      "execution_count": null,
      "metadata": {
        "colab": {
          "base_uri": "https://localhost:8080/",
          "height": 104
        },
        "id": "bSquWK41N_Yk",
        "outputId": "ac17f3c8-4a9c-44ec-8cb5-ca53757ec7a0"
      },
      "outputs": [
        {
          "output_type": "execute_result",
          "data": {
            "text/plain": [
              "<function __main__.educacion(x)>"
            ],
            "text/html": [
              "<div style=\"max-width:800px; border: 1px solid var(--colab-border-color);\"><style>\n",
              "      pre.function-repr-contents {\n",
              "        overflow-x: auto;\n",
              "        padding: 8px 12px;\n",
              "        max-height: 500px;\n",
              "      }\n",
              "\n",
              "      pre.function-repr-contents.function-repr-contents-collapsed {\n",
              "        cursor: pointer;\n",
              "        max-height: 100px;\n",
              "      }\n",
              "    </style>\n",
              "    <pre style=\"white-space: initial; background:\n",
              "         var(--colab-secondary-surface-color); padding: 8px 12px;\n",
              "         border-bottom: 1px solid var(--colab-border-color);\"><b>educacion</b><br/>def educacion(x)</pre><pre class=\"function-repr-contents function-repr-contents-collapsed\" style=\"\"><a class=\"filepath\" style=\"display:none\" href=\"#\">/content/&lt;ipython-input-43-5fb34b81f8e3&gt;</a>&lt;no docstring&gt;</pre></div>"
            ]
          },
          "metadata": {},
          "execution_count": 44
        }
      ],
      "source": [
        "sqlCtx.registerFunction(\"sexo_numm\",sexo_numm)\n",
        "sqlCtx.registerFunction(\"edad\",edad)\n",
        "sqlCtx.registerFunction(\"estado_civil\",estado_civil)\n",
        "sqlCtx.registerFunction(\"educacion\",educacion)"
      ]
    },
    {
      "cell_type": "code",
      "execution_count": null,
      "metadata": {
        "id": "1-QDTkMJd06H"
      },
      "outputs": [],
      "source": [
        "df_modelo_=sqlCtx.sql(\"\"\"\n",
        "\t\tSELECT\n",
        "\n",
        "    *\n",
        "    ---,sexo_numm(SEXO) AS sexo_Int\n",
        "    ,edad(edad) AS edad_Int\n",
        "    ,estado_civil(ESTADO_CIVIL_) AS estado_civil_Int\n",
        "    ,educacion(educacion) AS educacion_Int\n",
        "\n",
        "\t\tFROM df_result\n",
        "\t\t\"\"\")"
      ]
    },
    {
      "cell_type": "code",
      "source": [
        "df_evaluar=df_modelo_.select('edad','ESTADO_CIVIL_','educacion')"
      ],
      "metadata": {
        "id": "Bf4nL8W6gWSU"
      },
      "execution_count": null,
      "outputs": []
    },
    {
      "cell_type": "code",
      "execution_count": null,
      "metadata": {
        "colab": {
          "base_uri": "https://localhost:8080/"
        },
        "id": "me1eykSfMyF6",
        "outputId": "468fc251-f160-4f21-fa20-86d0f28fafae"
      },
      "outputs": [
        {
          "output_type": "stream",
          "name": "stdout",
          "text": [
            "+---------+--------+-------+-----------+---------------+----------------+--------+----------------+-------------+\n",
            "|     SEXO|ZONA_RES|   edad|TIPO_PACNAL|  ESTADO_CIVIL_|       educacion|edad_Int|estado_civil_Int|educacion_Int|\n",
            "+---------+--------+-------+-----------+---------------+----------------+--------+----------------+-------------+\n",
            "|MASCULINO|  URBANA|Adultos| NACIONALES|     Con pareja|Educacion Basica|       2|               1|            2|\n",
            "|MASCULINO|  URBANA|Mayores| NACIONALES|     Con pareja|Educacion Basica|       3|               1|            2|\n",
            "| FEMENINO|  URBANA|Jovenes| NACIONALES|Sin información| Sin escolaridad|       1|               0|            1|\n",
            "|MASCULINO|  URBANA|Adultos| NACIONALES|     Con pareja|Educacion Basica|       2|               1|            2|\n",
            "|MASCULINO|  URBANA|Mayores| NACIONALES|     Con pareja|Educacion Basica|       3|               1|            2|\n",
            "| FEMENINO|  URBANA|Mayores| NACIONALES|     Sin pareja|Educacion Basica|       3|               2|            2|\n",
            "| FEMENINO|  URBANA|Adultos| NACIONALES|     Con pareja| Educacion Media|       2|               1|            3|\n",
            "| FEMENINO|  URBANA|Adultos| NACIONALES|     Con pareja|Educacion Basica|       2|               1|            2|\n",
            "| FEMENINO|  URBANA|Adultos| NACIONALES|     Con pareja|Educacion Basica|       2|               1|            2|\n",
            "|MASCULINO|  URBANA|Adultos| NACIONALES|     Con pareja|Educacion Basica|       2|               1|            2|\n",
            "|MASCULINO|  URBANA|Adultos| NACIONALES|     Con pareja|Educacion Basica|       2|               1|            2|\n",
            "|MASCULINO|  URBANA|Adultos| NACIONALES|     Sin pareja|Educacion Basica|       2|               2|            2|\n",
            "|MASCULINO|  URBANA|Jovenes| NACIONALES|Sin información| Sin escolaridad|       1|               0|            1|\n",
            "| FEMENINO|  URBANA|Jovenes| NACIONALES|Sin información| Sin escolaridad|       1|               0|            1|\n",
            "| FEMENINO|  URBANA|Jovenes| NACIONALES|     Con pareja|Educacion Basica|       1|               1|            2|\n",
            "|MASCULINO|  URBANA|Adultos| NACIONALES|     Sin pareja| Educacion Media|       2|               2|            3|\n",
            "| FEMENINO|  URBANA|Adultos| NACIONALES|     Con pareja| Educacion Media|       2|               1|            3|\n",
            "|MASCULINO|  URBANA|Jovenes| NACIONALES|Sin información| Sin escolaridad|       1|               0|            1|\n",
            "| FEMENINO|  URBANA|Adultos| NACIONALES|     Con pareja|Educacion Basica|       2|               1|            2|\n",
            "| FEMENINO|  URBANA|Adultos| NACIONALES|     Con pareja|Educacion Basica|       2|               1|            2|\n",
            "+---------+--------+-------+-----------+---------------+----------------+--------+----------------+-------------+\n",
            "only showing top 20 rows\n",
            "\n"
          ]
        }
      ],
      "source": [
        "df_modelo_.show()"
      ]
    },
    {
      "cell_type": "markdown",
      "source": [
        "preparamos el data set para aplicar la vectorizacion"
      ],
      "metadata": {
        "id": "Rzsgj7ibGmql"
      }
    },
    {
      "cell_type": "code",
      "execution_count": null,
      "metadata": {
        "id": "40WKZX0dhF63"
      },
      "outputs": [],
      "source": [
        "df_modelo_ = df_modelo_.drop(\"SEXO\", \"edad\", \"ESTADO_CIVIL_\", \"educacion\",\"ZONA_RES\",\"TIPO_PACNAL\")"
      ]
    },
    {
      "cell_type": "code",
      "execution_count": null,
      "metadata": {
        "colab": {
          "base_uri": "https://localhost:8080/"
        },
        "id": "cac86XLpiTt6",
        "outputId": "c078c010-4b82-48e8-b2a5-cef13ab73bab"
      },
      "outputs": [
        {
          "output_type": "stream",
          "name": "stdout",
          "text": [
            "root\n",
            " |-- edad_Int: integer (nullable = true)\n",
            " |-- estado_civil_Int: integer (nullable = true)\n",
            " |-- educacion_Int: integer (nullable = true)\n",
            "\n"
          ]
        }
      ],
      "source": [
        "#df_modelo_ = df_modelo_.withColumn(\"sexo_Int\", df_modelo_[\"sexo_Int\"].cast(IntegerType()))\n",
        "df_modelo_ = df_modelo_.withColumn(\"edad_Int\", df_modelo_[\"edad_Int\"].cast(IntegerType()))\n",
        "df_modelo_ = df_modelo_.withColumn(\"estado_civil_Int\", df_modelo_[\"estado_civil_Int\"].cast(IntegerType()))\n",
        "df_modelo_ = df_modelo_.withColumn(\"educacion_Int\", df_modelo_[\"educacion_Int\"].cast(IntegerType()))\n",
        "data_=df_modelo_\n",
        "data_.printSchema()"
      ]
    },
    {
      "cell_type": "markdown",
      "metadata": {
        "id": "pDX41ab4LO7g"
      },
      "source": [
        "##**B) Análisis Descriptivo**\n",
        "\n",
        "Se crea un modelo de Kmeans que permitan describir los tipos de pacientes del hospital"
      ]
    },
    {
      "cell_type": "code",
      "execution_count": null,
      "metadata": {
        "id": "z8WP06qRnR1b"
      },
      "outputs": [],
      "source": [
        "from pyspark.ml.feature import VectorAssembler"
      ]
    },
    {
      "cell_type": "code",
      "execution_count": null,
      "metadata": {
        "colab": {
          "base_uri": "https://localhost:8080/"
        },
        "id": "KfTTKQshlhxc",
        "outputId": "341cb99c-6d98-42d1-875b-96b5c91b8e4f"
      },
      "outputs": [
        {
          "output_type": "execute_result",
          "data": {
            "text/plain": [
              "DataFrame[edad_Int: int, estado_civil_Int: int, educacion_Int: int, features: vector]"
            ]
          },
          "metadata": {},
          "execution_count": 53
        }
      ],
      "source": [
        "vectorAssembler = VectorAssembler(inputCols = data_.columns, outputCol = 'features', handleInvalid=\"skip\")\n",
        "vdata = vectorAssembler.transform(data_)\n",
        "vdata.cache()\n"
      ]
    },
    {
      "cell_type": "markdown",
      "metadata": {
        "id": "Ky-5V-ZsADbF"
      },
      "source": [
        "**calcular el numero de closter optimo para el k means**"
      ]
    },
    {
      "cell_type": "code",
      "execution_count": null,
      "metadata": {
        "colab": {
          "base_uri": "https://localhost:8080/",
          "height": 565
        },
        "id": "OXdmgoXL-jz7",
        "outputId": "44d480e6-0c1b-40d9-9481-2620a8109482"
      },
      "outputs": [
        {
          "output_type": "display_data",
          "data": {
            "text/plain": [
              "<Figure size 800x600 with 1 Axes>"
            ],
            "image/png": "[encoded data removed]"
          },
          "metadata": {}
        }
      ],
      "source": [
        "from pyspark.ml.clustering import KMeans\n",
        "from pyspark.ml.evaluation import ClusteringEvaluator\n",
        "import matplotlib.pyplot as plt\n",
        "\n",
        "\n",
        "wssse_list = []\n",
        "\n",
        "k_values = range(2, 11)\n",
        "\n",
        "for k in k_values:\n",
        "\n",
        "    km = KMeans(featuresCol='features', k=k, predictionCol='cluster', distanceMeasure='euclidean')\n",
        "    km_model = km.fit(vdata)\n",
        "\n",
        "\n",
        "    wssse = km_model.summary.trainingCost\n",
        "    wssse_list.append(wssse)\n",
        "\n",
        "\n",
        "plt.figure(figsize=(8, 6))\n",
        "plt.plot(k_values, wssse_list, marker='o')\n",
        "plt.title('Método del Codo para determinar el número óptimo de clusters')\n",
        "plt.xlabel('Número de clusters (k)')\n",
        "plt.ylabel('Suma de los errores al cuadrado (WSSSE)')\n",
        "plt.grid()\n",
        "plt.show()"
      ]
    },
    {
      "cell_type": "markdown",
      "metadata": {
        "id": "S8mX5B9q_QSL"
      },
      "source": [
        "Al analizar la gráfica del método del codo se observa que seleccionar k=5 podría ser un buen punto para balancear simplicidad y rendimiento del modelo. Sin embargo también se puede considerar k = 6,"
      ]
    },
    {
      "cell_type": "markdown",
      "metadata": {
        "id": "yIZtgAImCkKW"
      },
      "source": [
        "**se aplica modelo k mean closter= 6**"
      ]
    },
    {
      "cell_type": "code",
      "execution_count": null,
      "metadata": {
        "id": "LXXvhcoyoCBS"
      },
      "outputs": [],
      "source": [
        "#from pyspark.ml.clustering import KMeans\n",
        "#km = KMeans( featuresCol='features', k=3, predictionCol='cluster', distanceMeasure='euclidean')\n",
        "#km_model = km.fit(vdata)"
      ]
    },
    {
      "cell_type": "code",
      "execution_count": null,
      "metadata": {
        "id": "ZB65sQ2oofkB"
      },
      "outputs": [],
      "source": [
        "#predictions = km_model.transform(vdata)\n",
        "#predictions.show()"
      ]
    },
    {
      "cell_type": "code",
      "execution_count": null,
      "metadata": {
        "id": "gb-Iy8uyqV6g"
      },
      "outputs": [],
      "source": [
        "from pyspark.ml.feature import StandardScaler\n",
        "from pyspark.ml.clustering import KMeans\n",
        "\n",
        "# Escalar las características\n",
        "scaler = StandardScaler(inputCol='features', outputCol='scaled_features', withStd=True, withMean=False)\n",
        "scaled_data = scaler.fit(vdata).transform(vdata)\n",
        "\n",
        "# Crear el modelo KMeans utilizando las características escaladas\n",
        "km = KMeans(featuresCol='scaled_features', k=4, predictionCol='cluster', distanceMeasure='euclidean')\n",
        "km_model = km.fit(scaled_data)\n",
        "\n",
        "# Realizar las predicciones\n",
        "predictions = km_model.transform(scaled_data)\n",
        "\n",
        "# Mostrar las predicciones\n",
        "#predictions.show()\n"
      ]
    },
    {
      "cell_type": "markdown",
      "metadata": {
        "id": "_QI5IMlwCrlO"
      },
      "source": [
        "**se une la prediccion de closter con el data set original**"
      ]
    },
    {
      "cell_type": "code",
      "execution_count": null,
      "metadata": {
        "id": "C6-gFmcBr1jw"
      },
      "outputs": [],
      "source": [
        "from pyspark.sql.functions import monotonically_increasing_id"
      ]
    },
    {
      "cell_type": "code",
      "execution_count": null,
      "metadata": {
        "id": "aG03JAewSJGB"
      },
      "outputs": [],
      "source": [
        "df_result_1 = df_evaluar.withColumn(\"row_id\", monotonically_increasing_id())\n",
        "predictions = predictions.withColumn(\"row_id\", monotonically_increasing_id())"
      ]
    },
    {
      "cell_type": "code",
      "execution_count": null,
      "metadata": {
        "id": "URSH9iN2XsDy"
      },
      "outputs": [],
      "source": [
        "df_resultado = df_result_1.join(predictions.select(\"row_id\", \"cluster\"), on=\"row_id\", how=\"inner\")\n",
        "\n",
        "\n",
        "df_resultado = df_resultado.drop(\"row_id\")"
      ]
    },
    {
      "cell_type": "markdown",
      "metadata": {
        "id": "Ra-zco4iDuIK"
      },
      "source": [
        "**se crea columna de caracteristicas para analizar o observar las particularidades de cada closter**"
      ]
    },
    {
      "cell_type": "code",
      "execution_count": null,
      "metadata": {
        "id": "btsSE1ePfxwv"
      },
      "outputs": [],
      "source": [
        "from pyspark.sql.functions import concat_ws"
      ]
    },
    {
      "cell_type": "code",
      "execution_count": null,
      "metadata": {
        "id": "O88NT51kfG0B"
      },
      "outputs": [],
      "source": [
        "df_resultado = df_resultado.withColumn( \"caracteristicas\", concat_ws(\", \", \"edad\", \"ESTADO_CIVIL_\", \"educacion\"))"
      ]
    },
    {
      "cell_type": "code",
      "source": [
        "df_resultado.select('edad','ESTADO_CIVIL_','educacion','cluster').filter(df_resultado.cluster==0).show(20,truncate=False)"
      ],
      "metadata": {
        "colab": {
          "base_uri": "https://localhost:8080/"
        },
        "id": "jQKVHXUSLfS1",
        "outputId": "4397153e-8771-48bc-d8dd-d3de9cc64929"
      },
      "execution_count": null,
      "outputs": [
        {
          "output_type": "stream",
          "name": "stdout",
          "text": [
            "+-------+---------------+----------------+-------+\n",
            "|edad   |ESTADO_CIVIL_  |educacion       |cluster|\n",
            "+-------+---------------+----------------+-------+\n",
            "|Mayores|Con pareja     |Educacion Basica|0      |\n",
            "|Mayores|Con pareja     |Educacion Basica|0      |\n",
            "|Mayores|Sin pareja     |Educacion Basica|0      |\n",
            "|Mayores|Sin pareja     |Educacion Basica|0      |\n",
            "|Mayores|Sin pareja     |Educacion Basica|0      |\n",
            "|Mayores|Con pareja     |Educacion Basica|0      |\n",
            "|Mayores|Sin pareja     |Educacion Basica|0      |\n",
            "|Mayores|Con pareja     |Educacion Basica|0      |\n",
            "|Mayores|Sin pareja     |Educacion Basica|0      |\n",
            "|Mayores|Con pareja     |Educacion Basica|0      |\n",
            "|Mayores|Sin pareja     |Educacion Basica|0      |\n",
            "|Mayores|Sin pareja     |Educacion Media |0      |\n",
            "|Mayores|Sin pareja     |Educacion Basica|0      |\n",
            "|Mayores|Sin información|Sin escolaridad |0      |\n",
            "|Mayores|Sin información|Educacion Basica|0      |\n",
            "|Mayores|Sin pareja     |Educacion Basica|0      |\n",
            "|Mayores|Con pareja     |Educacion Basica|0      |\n",
            "|Mayores|Sin información|Sin escolaridad |0      |\n",
            "|Mayores|Con pareja     |Educacion Basica|0      |\n",
            "|Mayores|Con pareja     |Educacion Media |0      |\n",
            "+-------+---------------+----------------+-------+\n",
            "only showing top 20 rows\n",
            "\n"
          ]
        }
      ]
    },
    {
      "cell_type": "markdown",
      "source": [
        "Edad: Los adultos mayores o jóvenes pueden estar en diferentes niveles de riesgo según la condición estudiada.\n",
        "Estado Civil: Las personas sin pareja pueden tener menor apoyo en el manejo de su salud, lo que podría aumentar el riesgo.\n",
        "Nivel Educativo: Menor educación podría asociarse con menor acceso o comprensión de los sistemas de salud."
      ],
      "metadata": {
        "id": "Tyl-olx2bii-"
      }
    },
    {
      "cell_type": "markdown",
      "source": [
        "Pacientes con \"Sin escolaridad\" y \"Sin pareja\" podrían ser clasificados como \"Alta necesidad de apoyo.\""
      ],
      "metadata": {
        "id": "B1sQfU3zbmqb"
      }
    },
    {
      "cell_type": "code",
      "execution_count": null,
      "metadata": {
        "colab": {
          "base_uri": "https://localhost:8080/"
        },
        "id": "yUnGaS8RE7hB",
        "outputId": "675cb8fc-ea7c-4576-b676-43ded50c645b"
      },
      "outputs": [
        {
          "output_type": "stream",
          "name": "stdout",
          "text": [
            "+-------+-------------+----------------+-------+\n",
            "|edad   |ESTADO_CIVIL_|educacion       |cluster|\n",
            "+-------+-------------+----------------+-------+\n",
            "|Adultos|Con pareja   |Educacion Basica|1      |\n",
            "|Adultos|Con pareja   |Educacion Basica|1      |\n",
            "|Adultos|Con pareja   |Educacion Basica|1      |\n",
            "|Adultos|Con pareja   |Educacion Basica|1      |\n",
            "|Adultos|Con pareja   |Educacion Basica|1      |\n",
            "|Adultos|Con pareja   |Educacion Basica|1      |\n",
            "|Adultos|Sin pareja   |Educacion Basica|1      |\n",
            "|Adultos|Sin pareja   |Educacion Media |1      |\n",
            "|Adultos|Con pareja   |Educacion Basica|1      |\n",
            "|Adultos|Con pareja   |Educacion Basica|1      |\n",
            "|Adultos|Sin pareja   |Educacion Basica|1      |\n",
            "|Adultos|Sin pareja   |Sin escolaridad |1      |\n",
            "|Adultos|Sin pareja   |Educacion Basica|1      |\n",
            "|Adultos|Sin pareja   |Educacion Media |1      |\n",
            "|Adultos|Sin pareja   |Educacion Basica|1      |\n",
            "|Adultos|Sin pareja   |Educacion Basica|1      |\n",
            "|Adultos|Sin pareja   |Educacion Basica|1      |\n",
            "|Adultos|Con pareja   |Educacion Basica|1      |\n",
            "|Adultos|Sin pareja   |Educacion Media |1      |\n",
            "|Adultos|Con pareja   |Educacion Basica|1      |\n",
            "+-------+-------------+----------------+-------+\n",
            "only showing top 20 rows\n",
            "\n"
          ]
        }
      ],
      "source": [
        "df_resultado.select('edad','ESTADO_CIVIL_','educacion','cluster').filter(df_resultado.cluster==1).show(20,truncate=False)"
      ]
    },
    {
      "cell_type": "markdown",
      "source": [
        "La mayoría de los pacientes caen en esta categoría. Son adultos con pareja y educación básica, lo que indica una estabilidad relativa en términos de soporte social y acceso educativo.\n",
        "\n",
        "Los adultos dominan la muestra, lo que podría sugerir que este grupo tiene mayor representación en la población atendida, se puede considerar \"Necesidad moderada de apoyo\""
      ],
      "metadata": {
        "id": "FdZnxOdSdRtX"
      }
    },
    {
      "cell_type": "code",
      "execution_count": null,
      "metadata": {
        "id": "N18nUB0TQyGj",
        "colab": {
          "base_uri": "https://localhost:8080/"
        },
        "outputId": "20978dd5-6814-4506-8cc4-d40984f14c13"
      },
      "outputs": [
        {
          "output_type": "stream",
          "name": "stdout",
          "text": [
            "+-------+---------------+----------------+-------+\n",
            "|edad   |ESTADO_CIVIL_  |educacion       |cluster|\n",
            "+-------+---------------+----------------+-------+\n",
            "|Jovenes|Sin información|Sin escolaridad |2      |\n",
            "|Jovenes|Sin información|Sin escolaridad |2      |\n",
            "|Jovenes|Sin información|Sin escolaridad |2      |\n",
            "|Jovenes|Con pareja     |Educacion Basica|2      |\n",
            "|Jovenes|Sin información|Sin escolaridad |2      |\n",
            "|Jovenes|Sin información|Sin escolaridad |2      |\n",
            "|Adultos|Sin información|Sin escolaridad |2      |\n",
            "|Adultos|Sin información|Educacion Basica|2      |\n",
            "|Jovenes|Sin información|Sin escolaridad |2      |\n",
            "|Adultos|Sin información|Educacion Basica|2      |\n",
            "|Adultos|Sin información|Sin escolaridad |2      |\n",
            "|Adultos|Sin información|Educacion Basica|2      |\n",
            "|Jovenes|Sin información|Sin escolaridad |2      |\n",
            "|Jovenes|Sin información|Sin escolaridad |2      |\n",
            "|Jovenes|Sin información|Sin escolaridad |2      |\n",
            "|Jovenes|Sin información|Sin escolaridad |2      |\n",
            "|Jovenes|Sin información|Sin escolaridad |2      |\n",
            "|Jovenes|Sin información|Sin escolaridad |2      |\n",
            "|Jovenes|Sin información|Sin escolaridad |2      |\n",
            "|Jovenes|Sin información|Sin escolaridad |2      |\n",
            "+-------+---------------+----------------+-------+\n",
            "only showing top 20 rows\n",
            "\n"
          ]
        }
      ],
      "source": [
        "df_resultado.select('edad','ESTADO_CIVIL_','educacion','cluster').filter(df_resultado.cluster==2).show(20,truncate=False)"
      ]
    },
    {
      "cell_type": "markdown",
      "source": [
        "La combinación de \"Sin escolaridad\" y \"Sin información\" crea incertidumbre sobre el soporte social, incrementando la vulnerabilidad, en una etapa formativa sin acceso a educación ni claridad sobre su soporte social, lo que los hace extremadamente vulnerables, se clasifica como \"Alta necesidad de apoyo\""
      ],
      "metadata": {
        "id": "kvs6CJPKeh_t"
      }
    },
    {
      "cell_type": "code",
      "source": [
        "df_resultado.select('edad','ESTADO_CIVIL_','educacion','cluster').filter(df_resultado.cluster==3).show(20,truncate=False)"
      ],
      "metadata": {
        "colab": {
          "base_uri": "https://localhost:8080/"
        },
        "id": "sAe7UA7KMx67",
        "outputId": "00f8949a-766b-4cd0-8f0f-16abb433970b"
      },
      "execution_count": null,
      "outputs": [
        {
          "output_type": "stream",
          "name": "stdout",
          "text": [
            "+-------+-------------+------------------+-------+\n",
            "|edad   |ESTADO_CIVIL_|educacion         |cluster|\n",
            "+-------+-------------+------------------+-------+\n",
            "|Adultos|Con pareja   |Educacion Media   |3      |\n",
            "|Adultos|Con pareja   |Educacion Media   |3      |\n",
            "|Adultos|Con pareja   |Educacion Media   |3      |\n",
            "|Adultos|Con pareja   |Educacion Media   |3      |\n",
            "|Adultos|Sin pareja   |Educacion Superior|3      |\n",
            "|Adultos|Con pareja   |Educacion Media   |3      |\n",
            "|Adultos|Con pareja   |Posgrado          |3      |\n",
            "|Adultos|Sin pareja   |Educacion Superior|3      |\n",
            "|Adultos|Sin pareja   |Educacion Superior|3      |\n",
            "|Adultos|Con pareja   |Educacion Media   |3      |\n",
            "|Adultos|Con pareja   |Posgrado          |3      |\n",
            "|Adultos|Sin pareja   |Educacion Superior|3      |\n",
            "|Adultos|Con pareja   |Educacion Media   |3      |\n",
            "|Adultos|Con pareja   |Educacion Media   |3      |\n",
            "|Adultos|Con pareja   |Educacion Media   |3      |\n",
            "|Adultos|Sin pareja   |Educacion Superior|3      |\n",
            "|Adultos|Sin pareja   |Educacion Superior|3      |\n",
            "|Adultos|Con pareja   |Educacion Media   |3      |\n",
            "|Adultos|Sin pareja   |Educacion Superior|3      |\n",
            "|Adultos|Con pareja   |Educacion Superior|3      |\n",
            "+-------+-------------+------------------+-------+\n",
            "only showing top 20 rows\n",
            "\n"
          ]
        }
      ]
    },
    {
      "cell_type": "markdown",
      "source": [
        "La mayoría tiene Educación Media.\n",
        "Un grupo significativo tiene Educación Superior.\n",
        "Un grupo más pequeño tiene Posgrado.\n",
        "\n",
        "El Clúster 3 representa una población adulta con niveles educativos que van desde media hasta posgrado. Las diferencias en estado civil y nivel educativo permiten segmentar el grupo en niveles de necesidad. La mayoría tiene necesidad moderada de apoyo,"
      ],
      "metadata": {
        "id": "0ONu8aUagvJZ"
      }
    },
    {
      "cell_type": "markdown",
      "source": [
        "##**C) Análisis Predictivo**\n",
        "\n",
        "Usando el clúster asignado a cada paciente como variable objetivo, Se crea un modelo predictivo que permita predecir el grupo al que pertenece cada paciente"
      ],
      "metadata": {
        "id": "ye4gLDkqb67l"
      }
    },
    {
      "cell_type": "markdown",
      "source": [
        "**preparar data**"
      ],
      "metadata": {
        "id": "4Vuw__LGVKTA"
      }
    },
    {
      "cell_type": "code",
      "source": [
        "df_resultado.createOrReplaceTempView(\"df_modelo_pred\")"
      ],
      "metadata": {
        "id": "dHuTKzIPptP1"
      },
      "execution_count": null,
      "outputs": []
    },
    {
      "cell_type": "code",
      "source": [
        "df_modelo_pred=sqlCtx.sql(\"\"\"\n",
        "\t\tSELECT\n",
        "\n",
        "    *\n",
        "    ---,sexo_numm(SEXO) AS sexo_Int\n",
        "    ,edad(edad) AS edad_Int\n",
        "    ,estado_civil(ESTADO_CIVIL_) AS estado_civil_Int\n",
        "    ,educacion(educacion) AS educacion_Int\n",
        "\n",
        "\t\tFROM df_modelo_pred\n",
        "\t\t\"\"\")"
      ],
      "metadata": {
        "id": "D8Q7e3AWpj1m"
      },
      "execution_count": null,
      "outputs": []
    },
    {
      "cell_type": "code",
      "source": [
        "df_modelo_pred = df_modelo_pred.drop(\"SEXO\", \"edad\", \"ESTADO_CIVIL_\", \"educacion\",\"ZONA_RES\",\"TIPO_PACNAL\",'caracteristicas')"
      ],
      "metadata": {
        "id": "sHCHftnKrSI8"
      },
      "execution_count": null,
      "outputs": []
    },
    {
      "cell_type": "markdown",
      "source": [
        "se transforman numericas las variables"
      ],
      "metadata": {
        "id": "oJdKMPObDpzw"
      }
    },
    {
      "cell_type": "code",
      "source": [
        "\n",
        "df_modelo_pred = df_modelo_pred.withColumn(\"cluster\", df_modelo_pred[\"cluster\"].cast(IntegerType()))\n",
        "df_modelo_pred = df_modelo_pred.withColumn(\"edad_Int\", df_modelo_pred[\"edad_Int\"].cast(IntegerType()))\n",
        "df_modelo_pred = df_modelo_pred.withColumn(\"estado_civil_Int\", df_modelo_pred[\"estado_civil_Int\"].cast(IntegerType()))\n",
        "df_modelo_pred = df_modelo_pred.withColumn(\"educacion_Int\", df_modelo_pred[\"educacion_Int\"].cast(IntegerType()))"
      ],
      "metadata": {
        "id": "X4h2EMKoDUDN"
      },
      "execution_count": null,
      "outputs": []
    },
    {
      "cell_type": "code",
      "source": [
        "df_modelo_pred.show()"
      ],
      "metadata": {
        "colab": {
          "base_uri": "https://localhost:8080/"
        },
        "id": "IO-jom-6DxOO",
        "outputId": "9d7e650e-1200-426d-dfbb-3558a285a606"
      },
      "execution_count": null,
      "outputs": [
        {
          "output_type": "stream",
          "name": "stdout",
          "text": [
            "+-------+--------+----------------+-------------+\n",
            "|cluster|edad_Int|estado_civil_Int|educacion_Int|\n",
            "+-------+--------+----------------+-------------+\n",
            "|      1|       2|               1|            2|\n",
            "|      0|       3|               1|            2|\n",
            "|      2|       1|               0|            1|\n",
            "|      1|       2|               1|            2|\n",
            "|      0|       3|               1|            2|\n",
            "|      0|       3|               2|            2|\n",
            "|      3|       2|               1|            3|\n",
            "|      1|       2|               1|            2|\n",
            "|      1|       2|               1|            2|\n",
            "|      1|       2|               1|            2|\n",
            "|      1|       2|               1|            2|\n",
            "|      1|       2|               2|            2|\n",
            "|      2|       1|               0|            1|\n",
            "|      2|       1|               0|            1|\n",
            "|      2|       1|               1|            2|\n",
            "|      1|       2|               2|            3|\n",
            "|      3|       2|               1|            3|\n",
            "|      2|       1|               0|            1|\n",
            "|      1|       2|               1|            2|\n",
            "|      1|       2|               1|            2|\n",
            "+-------+--------+----------------+-------------+\n",
            "only showing top 20 rows\n",
            "\n"
          ]
        }
      ]
    },
    {
      "cell_type": "code",
      "source": [
        "vectorAssembler = VectorAssembler(inputCols = \\\n",
        "    ['edad_Int','estado_civil_Int','educacion_Int'], outputCol = 'features')\n",
        "vest = vectorAssembler.transform(df_modelo_pred)\n",
        "vest = vest.select(['features', 'cluster'])\n",
        "vest.show(5)"
      ],
      "metadata": {
        "colab": {
          "base_uri": "https://localhost:8080/"
        },
        "id": "GGOQGl8KEEz4",
        "outputId": "c61ef961-1d3b-4cf6-fba8-a8fd6718447a"
      },
      "execution_count": null,
      "outputs": [
        {
          "output_type": "stream",
          "name": "stdout",
          "text": [
            "+-------------+-------+\n",
            "|     features|cluster|\n",
            "+-------------+-------+\n",
            "|[2.0,1.0,2.0]|      1|\n",
            "|[3.0,1.0,2.0]|      0|\n",
            "|[1.0,0.0,1.0]|      2|\n",
            "|[2.0,1.0,2.0]|      1|\n",
            "|[3.0,1.0,2.0]|      0|\n",
            "+-------------+-------+\n",
            "only showing top 5 rows\n",
            "\n"
          ]
        }
      ]
    },
    {
      "cell_type": "markdown",
      "source": [
        "**Creamos los conjuntos de datos de entrenamiento y evaluación (Split)**"
      ],
      "metadata": {
        "id": "J9Chz23Sv8Ap"
      }
    },
    {
      "cell_type": "code",
      "source": [
        "(trainingData, testData) = vest.randomSplit([0.7, 0.3])\n",
        "print(trainingData.count())\n",
        "print(testData.count())"
      ],
      "metadata": {
        "id": "sxFy73iQwBW5",
        "colab": {
          "base_uri": "https://localhost:8080/"
        },
        "outputId": "7d45e72a-f866-49fb-fd71-26582db3e7a4"
      },
      "execution_count": null,
      "outputs": [
        {
          "output_type": "stream",
          "name": "stdout",
          "text": [
            "64218\n",
            "27749\n"
          ]
        }
      ]
    },
    {
      "cell_type": "markdown",
      "source": [
        "**Modelar hacer prediccion de clasificacion con el modelo logisticregression**"
      ],
      "metadata": {
        "id": "qPuKmoUaWP7U"
      }
    },
    {
      "cell_type": "code",
      "source": [
        "\n",
        "from pyspark.ml.classification import LogisticRegression\n",
        "lr = LogisticRegression(labelCol=\"cluster\", featuresCol=\"features\",maxIter=10)\n",
        "lr_model=lr.fit(trainingData)\n"
      ],
      "metadata": {
        "id": "AUtHFKYhWvo1"
      },
      "execution_count": null,
      "outputs": []
    },
    {
      "cell_type": "code",
      "source": [
        "\n",
        "trainingSummary = lr_model.summary"
      ],
      "metadata": {
        "id": "Pflhcy7DZTJ4"
      },
      "execution_count": null,
      "outputs": []
    },
    {
      "cell_type": "markdown",
      "source": [
        "**prediccion training**"
      ],
      "metadata": {
        "id": "wHYCYKs9crpE"
      }
    },
    {
      "cell_type": "code",
      "source": [
        "trainingSummary.predictions.select('cluster','prediction','probability').show(10)"
      ],
      "metadata": {
        "colab": {
          "base_uri": "https://localhost:8080/"
        },
        "id": "pYfFRAqYZ17n",
        "outputId": "ea104337-b92a-4896-e823-45180af9bd81"
      },
      "execution_count": null,
      "outputs": [
        {
          "output_type": "stream",
          "name": "stdout",
          "text": [
            "+-------+----------+--------------------+\n",
            "|cluster|prediction|         probability|\n",
            "+-------+----------+--------------------+\n",
            "|    2.0|       2.0|[0.00329695033328...|\n",
            "|    2.0|       2.0|[0.00329695033328...|\n",
            "|    2.0|       2.0|[0.00329695033328...|\n",
            "|    2.0|       2.0|[0.00329695033328...|\n",
            "|    2.0|       2.0|[0.00329695033328...|\n",
            "|    2.0|       2.0|[0.00329695033328...|\n",
            "|    2.0|       2.0|[0.00329695033328...|\n",
            "|    2.0|       2.0|[0.00329695033328...|\n",
            "|    2.0|       2.0|[0.00329695033328...|\n",
            "|    2.0|       2.0|[0.00329695033328...|\n",
            "+-------+----------+--------------------+\n",
            "only showing top 10 rows\n",
            "\n"
          ]
        }
      ]
    },
    {
      "cell_type": "markdown",
      "source": [
        "**evaluar**"
      ],
      "metadata": {
        "id": "-QupCSSCc4Vj"
      }
    },
    {
      "cell_type": "code",
      "source": [
        "\n",
        "predict_test=lr_model.transform(testData)\n",
        "predict_test.select('cluster','prediction','probability').show(10)"
      ],
      "metadata": {
        "colab": {
          "base_uri": "https://localhost:8080/"
        },
        "id": "C2wWZ3aUc6Zj",
        "outputId": "e47d7e3d-94f7-45f2-c74c-a561b43614b0"
      },
      "execution_count": null,
      "outputs": [
        {
          "output_type": "stream",
          "name": "stdout",
          "text": [
            "+-------+----------+--------------------+\n",
            "|cluster|prediction|         probability|\n",
            "+-------+----------+--------------------+\n",
            "|      2|       2.0|[0.00329695033328...|\n",
            "|      2|       2.0|[0.00329695033328...|\n",
            "|      2|       2.0|[0.00329695033328...|\n",
            "|      2|       2.0|[0.00329695033328...|\n",
            "|      2|       2.0|[0.00329695033328...|\n",
            "|      2|       2.0|[0.00329695033328...|\n",
            "|      2|       2.0|[0.00329695033328...|\n",
            "|      2|       2.0|[3.09043887239157...|\n",
            "|      2|       2.0|[3.09043887239157...|\n",
            "|      1|       1.0|[2.81032585464146...|\n",
            "+-------+----------+--------------------+\n",
            "only showing top 10 rows\n",
            "\n"
          ]
        }
      ]
    },
    {
      "cell_type": "markdown",
      "source": [
        "**aca evaluamos el data set de testeo  con multples closter**"
      ],
      "metadata": {
        "id": "gbGx49ZWfV8l"
      }
    },
    {
      "cell_type": "markdown",
      "source": [
        "**acurracy**"
      ],
      "metadata": {
        "id": "2eYaAZl1pJ8w"
      }
    },
    {
      "cell_type": "code",
      "source": [
        "\n",
        "from pyspark.ml.evaluation import MulticlassClassificationEvaluator\n",
        "\n",
        "evaluator = MulticlassClassificationEvaluator(labelCol='cluster', predictionCol='prediction', metricName='accuracy')\n",
        "accuracy = evaluator.evaluate(predict_test)\n",
        "print('Accuracy con los datos de evaluación:', accuracy)\n"
      ],
      "metadata": {
        "colab": {
          "base_uri": "https://localhost:8080/"
        },
        "id": "RZ2wdbfQdwtF",
        "outputId": "ead792da-7909-4d9c-efb6-800eb5455db2"
      },
      "execution_count": null,
      "outputs": [
        {
          "output_type": "stream",
          "name": "stdout",
          "text": [
            "Accuracy con los datos de evaluación: 0.9571516090669934\n"
          ]
        }
      ]
    },
    {
      "cell_type": "markdown",
      "source": [
        "**f1_evaluator**"
      ],
      "metadata": {
        "id": "rtZy4d3SpN-o"
      }
    },
    {
      "cell_type": "code",
      "source": [
        "f1_evaluator = MulticlassClassificationEvaluator(labelCol='cluster', predictionCol='prediction', metricName='f1')\n",
        "f1_score = f1_evaluator.evaluate(predict_test)\n",
        "print('F1-Score con los datos de evaluación:', f1_score)"
      ],
      "metadata": {
        "colab": {
          "base_uri": "https://localhost:8080/"
        },
        "id": "m5E6Giioo5-Q",
        "outputId": "e496f900-b09b-40e7-e20a-f87e7834744b"
      },
      "execution_count": null,
      "outputs": [
        {
          "output_type": "stream",
          "name": "stdout",
          "text": [
            "F1-Score con los datos de evaluación: 0.9572440575797617\n"
          ]
        }
      ]
    },
    {
      "cell_type": "markdown",
      "source": [
        "**matriz de confucion**"
      ],
      "metadata": {
        "id": "m1tj2ujZrKQi"
      }
    },
    {
      "cell_type": "code",
      "source": [
        "predict_test.groupBy('cluster', 'prediction').count().sort('cluster', 'prediction').show()\n"
      ],
      "metadata": {
        "colab": {
          "base_uri": "https://localhost:8080/"
        },
        "id": "tQTQ6P_fpYFf",
        "outputId": "20e84bcf-372b-45fa-c0d3-a5f00fed4f95"
      },
      "execution_count": null,
      "outputs": [
        {
          "output_type": "stream",
          "name": "stdout",
          "text": [
            "+-------+----------+-----+\n",
            "|cluster|prediction|count|\n",
            "+-------+----------+-----+\n",
            "|      0|       0.0| 6225|\n",
            "|      0|       1.0|  190|\n",
            "|      0|       2.0|  451|\n",
            "|      1|       0.0|  339|\n",
            "|      1|       1.0|11017|\n",
            "|      2|       1.0|   38|\n",
            "|      2|       2.0| 5350|\n",
            "|      2|       3.0|    5|\n",
            "|      3|       2.0|  166|\n",
            "|      3|       3.0| 3968|\n",
            "+-------+----------+-----+\n",
            "\n"
          ]
        }
      ]
    },
    {
      "cell_type": "markdown",
      "source": [
        "Las combinaciones donde cluster es igual a prediction representan las predicciones correctas del modelo.\n",
        "\n",
        "(cluster=0, prediction=0.0): 9207\n",
        "(cluster=2, prediction=2.0): 3896\n",
        "(cluster=1, prediction=1.0): 4102\n",
        "\n",
        "cluster=1, prediction=3.0): 212 → El modelo predijo 3 para 212 observaciones que en realidad eran 1.\n",
        "(cluster=0, prediction=3.0): 286 → El modelo predijo 3 para 286 observaciones que en realidad eran 0.\n",
        "(cluster=3, prediction=3.0): 9825 → El modelo predijo correctamente muchas veces 3, pero este número podría sugerir un desequilibrio en las clases o un sesgo hacia predecir la clase 3"
      ],
      "metadata": {
        "id": "w9kQkfceq0uP"
      }
    },
    {
      "cell_type": "markdown",
      "metadata": {
        "id": "gaYRRcaPlN9w"
      },
      "source": [
        "Presente aquí el código desarrollado y el resultado obtenido"
      ]
    }
  ],
  "metadata": {
    "colab": {
      "collapsed_sections": [
        "hzlYHg9_V9tm",
        "058NG6fhjybn",
        "GAyH6mgGK3VA",
        "k2c0vta3dnmg",
        "De0OvwnHfuz4",
        "tZ6I-6oxK_-r",
        "aicHrQDWt94h",
        "ZKnuBvNek-9A",
        "m92YjKirqU0I",
        "pDX41ab4LO7g",
        "ye4gLDkqb67l"
      ],
      "provenance": [],
      "include_colab_link": true
    },
    "kernelspec": {
      "display_name": "Python 3",
      "name": "python3"
    }
  },
  "nbformat": 4,
  "nbformat_minor": 0
}